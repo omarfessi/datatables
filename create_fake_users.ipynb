{
 "cells": [
  {
   "cell_type": "code",
   "execution_count": 2,
   "metadata": {},
   "outputs": [],
   "source": [
    "import random\n",
    "import sys\n",
    "import datetime\n",
    "from dateutil.parser import parse\n",
    "from faker import Faker\n",
    "from api import db, User\n",
    "\n",
    "import pandas as pd\n",
    "from api import UserHistory\n",
    "from sqlalchemy import select, desc"
   ]
  },
  {
   "cell_type": "code",
   "execution_count": null,
   "metadata": {},
   "outputs": [],
   "source": [
    "team_members_choices = ['dpo', 'IG Member', 'Work Council', 'Legal Member']\n",
    "random.choice(team_members_choices)"
   ]
  },
  {
   "cell_type": "code",
   "execution_count": 3,
   "metadata": {},
   "outputs": [],
   "source": [
    "user = UserHistory.query.filter_by(uid=1004983).order_by(desc(UserHistory.id))\n"
   ]
  },
  {
   "cell_type": "code",
   "execution_count": 4,
   "metadata": {},
   "outputs": [],
   "source": [
    "result_dict = [u.__dict__ for u in user.all()]\n",
    "adages_df = pd.DataFrame(result_dict)\n",
    "adages_df.drop(columns=[adages_df.columns[0], 'id'], axis = 1, inplace=True)"
   ]
  },
  {
   "cell_type": "code",
   "execution_count": 5,
   "metadata": {},
   "outputs": [],
   "source": [
    "adages_prev = adages_df.loc[1:]\n",
    "adages_prev.reset_index(drop=True, inplace=True)\n",
    "adages_next = adages_df.loc[:adages_df.shape[0]-2]\n",
    "adages_diff = adages_prev.fillna('') != adages_next.fillna('')"
   ]
  },
  {
   "cell_type": "code",
   "execution_count": 6,
   "metadata": {},
   "outputs": [
    {
     "data": {
      "text/html": [
       "<div>\n",
       "<style scoped>\n",
       "    .dataframe tbody tr th:only-of-type {\n",
       "        vertical-align: middle;\n",
       "    }\n",
       "\n",
       "    .dataframe tbody tr th {\n",
       "        vertical-align: top;\n",
       "    }\n",
       "\n",
       "    .dataframe thead th {\n",
       "        text-align: right;\n",
       "    }\n",
       "</style>\n",
       "<table border=\"1\" class=\"dataframe\">\n",
       "  <thead>\n",
       "    <tr style=\"text-align: right;\">\n",
       "      <th></th>\n",
       "      <th>date_of_birth</th>\n",
       "      <th>email</th>\n",
       "      <th>address</th>\n",
       "      <th>age</th>\n",
       "      <th>uid</th>\n",
       "      <th>refresh_datetime</th>\n",
       "      <th>team_member</th>\n",
       "      <th>country</th>\n",
       "      <th>phone</th>\n",
       "      <th>name</th>\n",
       "      <th>is_monitored</th>\n",
       "    </tr>\n",
       "  </thead>\n",
       "  <tbody>\n",
       "    <tr>\n",
       "      <th>0</th>\n",
       "      <td>1982-11-17 21:03:55</td>\n",
       "      <td>justinbradley@example.com</td>\n",
       "      <td>66061 Alisha Island, Stanleystad, MI 51234</td>\n",
       "      <td>72</td>\n",
       "      <td>1004983</td>\n",
       "      <td>2022-09-01 13:33:05.570334</td>\n",
       "      <td>IG Member</td>\n",
       "      <td>Palestinian Territory</td>\n",
       "      <td>6478423554</td>\n",
       "      <td>Sergio Perez</td>\n",
       "      <td>None</td>\n",
       "    </tr>\n",
       "    <tr>\n",
       "      <th>1</th>\n",
       "      <td>1982-11-17 21:03:55</td>\n",
       "      <td>justinbradley@example.com</td>\n",
       "      <td>66061 Alisha Island, Stanleystad, MI 51234</td>\n",
       "      <td>72</td>\n",
       "      <td>1004983</td>\n",
       "      <td>2022-08-31 14:53:27.981232</td>\n",
       "      <td>IG Member</td>\n",
       "      <td>Palestinian Territory</td>\n",
       "      <td>6478423554</td>\n",
       "      <td>Peter Perez</td>\n",
       "      <td>None</td>\n",
       "    </tr>\n",
       "  </tbody>\n",
       "</table>\n",
       "</div>"
      ],
      "text/plain": [
       "        date_of_birth                      email  \\\n",
       "0 1982-11-17 21:03:55  justinbradley@example.com   \n",
       "1 1982-11-17 21:03:55  justinbradley@example.com   \n",
       "\n",
       "                                      address  age      uid  \\\n",
       "0  66061 Alisha Island, Stanleystad, MI 51234   72  1004983   \n",
       "1  66061 Alisha Island, Stanleystad, MI 51234   72  1004983   \n",
       "\n",
       "            refresh_datetime team_member                country       phone  \\\n",
       "0 2022-09-01 13:33:05.570334   IG Member  Palestinian Territory  6478423554   \n",
       "1 2022-08-31 14:53:27.981232   IG Member  Palestinian Territory  6478423554   \n",
       "\n",
       "           name is_monitored  \n",
       "0  Sergio Perez         None  \n",
       "1   Peter Perez         None  "
      ]
     },
     "execution_count": 6,
     "metadata": {},
     "output_type": "execute_result"
    }
   ],
   "source": [
    "adages_df"
   ]
  },
  {
   "cell_type": "code",
   "execution_count": 7,
   "metadata": {},
   "outputs": [
    {
     "data": {
      "text/html": [
       "<div>\n",
       "<style scoped>\n",
       "    .dataframe tbody tr th:only-of-type {\n",
       "        vertical-align: middle;\n",
       "    }\n",
       "\n",
       "    .dataframe tbody tr th {\n",
       "        vertical-align: top;\n",
       "    }\n",
       "\n",
       "    .dataframe thead th {\n",
       "        text-align: right;\n",
       "    }\n",
       "</style>\n",
       "<table border=\"1\" class=\"dataframe\">\n",
       "  <thead>\n",
       "    <tr style=\"text-align: right;\">\n",
       "      <th></th>\n",
       "      <th>date_of_birth</th>\n",
       "      <th>email</th>\n",
       "      <th>address</th>\n",
       "      <th>age</th>\n",
       "      <th>uid</th>\n",
       "      <th>refresh_datetime</th>\n",
       "      <th>team_member</th>\n",
       "      <th>country</th>\n",
       "      <th>phone</th>\n",
       "      <th>name</th>\n",
       "      <th>is_monitored</th>\n",
       "    </tr>\n",
       "  </thead>\n",
       "  <tbody>\n",
       "    <tr>\n",
       "      <th>0</th>\n",
       "      <td>1982-11-17 21:03:55</td>\n",
       "      <td>justinbradley@example.com</td>\n",
       "      <td>66061 Alisha Island, Stanleystad, MI 51234</td>\n",
       "      <td>72</td>\n",
       "      <td>1004983</td>\n",
       "      <td>2022-08-31 14:53:27.981232</td>\n",
       "      <td>IG Member</td>\n",
       "      <td>Palestinian Territory</td>\n",
       "      <td>6478423554</td>\n",
       "      <td>Peter Perez</td>\n",
       "      <td>None</td>\n",
       "    </tr>\n",
       "  </tbody>\n",
       "</table>\n",
       "</div>"
      ],
      "text/plain": [
       "        date_of_birth                      email  \\\n",
       "0 1982-11-17 21:03:55  justinbradley@example.com   \n",
       "\n",
       "                                      address  age      uid  \\\n",
       "0  66061 Alisha Island, Stanleystad, MI 51234   72  1004983   \n",
       "\n",
       "            refresh_datetime team_member                country       phone  \\\n",
       "0 2022-08-31 14:53:27.981232   IG Member  Palestinian Territory  6478423554   \n",
       "\n",
       "          name is_monitored  \n",
       "0  Peter Perez         None  "
      ]
     },
     "execution_count": 7,
     "metadata": {},
     "output_type": "execute_result"
    }
   ],
   "source": [
    "adages_prev"
   ]
  },
  {
   "cell_type": "code",
   "execution_count": 8,
   "metadata": {},
   "outputs": [
    {
     "data": {
      "text/html": [
       "<div>\n",
       "<style scoped>\n",
       "    .dataframe tbody tr th:only-of-type {\n",
       "        vertical-align: middle;\n",
       "    }\n",
       "\n",
       "    .dataframe tbody tr th {\n",
       "        vertical-align: top;\n",
       "    }\n",
       "\n",
       "    .dataframe thead th {\n",
       "        text-align: right;\n",
       "    }\n",
       "</style>\n",
       "<table border=\"1\" class=\"dataframe\">\n",
       "  <thead>\n",
       "    <tr style=\"text-align: right;\">\n",
       "      <th></th>\n",
       "      <th>date_of_birth</th>\n",
       "      <th>email</th>\n",
       "      <th>address</th>\n",
       "      <th>age</th>\n",
       "      <th>uid</th>\n",
       "      <th>refresh_datetime</th>\n",
       "      <th>team_member</th>\n",
       "      <th>country</th>\n",
       "      <th>phone</th>\n",
       "      <th>name</th>\n",
       "      <th>is_monitored</th>\n",
       "    </tr>\n",
       "  </thead>\n",
       "  <tbody>\n",
       "    <tr>\n",
       "      <th>0</th>\n",
       "      <td>1982-11-17 21:03:55</td>\n",
       "      <td>justinbradley@example.com</td>\n",
       "      <td>66061 Alisha Island, Stanleystad, MI 51234</td>\n",
       "      <td>72</td>\n",
       "      <td>1004983</td>\n",
       "      <td>2022-09-01 13:33:05.570334</td>\n",
       "      <td>IG Member</td>\n",
       "      <td>Palestinian Territory</td>\n",
       "      <td>6478423554</td>\n",
       "      <td>Sergio Perez</td>\n",
       "      <td>None</td>\n",
       "    </tr>\n",
       "  </tbody>\n",
       "</table>\n",
       "</div>"
      ],
      "text/plain": [
       "        date_of_birth                      email  \\\n",
       "0 1982-11-17 21:03:55  justinbradley@example.com   \n",
       "\n",
       "                                      address  age      uid  \\\n",
       "0  66061 Alisha Island, Stanleystad, MI 51234   72  1004983   \n",
       "\n",
       "            refresh_datetime team_member                country       phone  \\\n",
       "0 2022-09-01 13:33:05.570334   IG Member  Palestinian Territory  6478423554   \n",
       "\n",
       "           name is_monitored  \n",
       "0  Sergio Perez         None  "
      ]
     },
     "execution_count": 8,
     "metadata": {},
     "output_type": "execute_result"
    }
   ],
   "source": [
    "adages_next"
   ]
  },
  {
   "cell_type": "code",
   "execution_count": 9,
   "metadata": {},
   "outputs": [
    {
     "data": {
      "text/html": [
       "<div>\n",
       "<style scoped>\n",
       "    .dataframe tbody tr th:only-of-type {\n",
       "        vertical-align: middle;\n",
       "    }\n",
       "\n",
       "    .dataframe tbody tr th {\n",
       "        vertical-align: top;\n",
       "    }\n",
       "\n",
       "    .dataframe thead th {\n",
       "        text-align: right;\n",
       "    }\n",
       "</style>\n",
       "<table border=\"1\" class=\"dataframe\">\n",
       "  <thead>\n",
       "    <tr style=\"text-align: right;\">\n",
       "      <th></th>\n",
       "      <th>date_of_birth</th>\n",
       "      <th>email</th>\n",
       "      <th>address</th>\n",
       "      <th>age</th>\n",
       "      <th>uid</th>\n",
       "      <th>refresh_datetime</th>\n",
       "      <th>team_member</th>\n",
       "      <th>country</th>\n",
       "      <th>phone</th>\n",
       "      <th>name</th>\n",
       "      <th>is_monitored</th>\n",
       "    </tr>\n",
       "  </thead>\n",
       "  <tbody>\n",
       "    <tr>\n",
       "      <th>0</th>\n",
       "      <td>False</td>\n",
       "      <td>False</td>\n",
       "      <td>False</td>\n",
       "      <td>False</td>\n",
       "      <td>False</td>\n",
       "      <td>True</td>\n",
       "      <td>False</td>\n",
       "      <td>False</td>\n",
       "      <td>False</td>\n",
       "      <td>True</td>\n",
       "      <td>False</td>\n",
       "    </tr>\n",
       "  </tbody>\n",
       "</table>\n",
       "</div>"
      ],
      "text/plain": [
       "   date_of_birth  email  address    age    uid  refresh_datetime  team_member  \\\n",
       "0          False  False    False  False  False              True        False   \n",
       "\n",
       "   country  phone  name  is_monitored  \n",
       "0    False  False  True         False  "
      ]
     },
     "execution_count": 9,
     "metadata": {},
     "output_type": "execute_result"
    }
   ],
   "source": [
    "adages_diff"
   ]
  },
  {
   "cell_type": "code",
   "execution_count": 10,
   "metadata": {},
   "outputs": [],
   "source": [
    "adages_diff.drop(['refresh_datetime'], axis=1, inplace=True)"
   ]
  },
  {
   "cell_type": "code",
   "execution_count": 11,
   "metadata": {},
   "outputs": [],
   "source": [
    "audit_trail = []\n",
    "for index in adages_diff.index:\n",
    "    modification = {}\n",
    "    modification['MODIFIED_ON'] = adages_next.loc[index, 'refresh_datetime']\n",
    "    modified_columns ={}\n",
    "    for column in adages_diff.columns:\n",
    "        if (adages_diff.loc[index, column]):\n",
    "            modified_columns[column] = [adages_prev[column].tolist()[index], adages_next[column].tolist()[index]]\n",
    "    if modified_columns : \n",
    "        modification['MODIFIED_COLUMNS']=modified_columns\n",
    "        audit_trail.append(modification)"
   ]
  },
  {
   "cell_type": "code",
   "execution_count": 12,
   "metadata": {},
   "outputs": [
    {
     "data": {
      "text/plain": [
       "[{'MODIFIED_ON': Timestamp('2022-09-01 13:33:05.570334'),\n",
       "  'MODIFIED_COLUMNS': {'name': ['Peter Perez', 'Sergio Perez']}}]"
      ]
     },
     "execution_count": 12,
     "metadata": {},
     "output_type": "execute_result"
    }
   ],
   "source": [
    "audit_trail"
   ]
  },
  {
   "cell_type": "code",
   "execution_count": null,
   "metadata": {},
   "outputs": [],
   "source": [
    "adages_diff.index"
   ]
  },
  {
   "cell_type": "code",
   "execution_count": 13,
   "metadata": {},
   "outputs": [],
   "source": [
    "data = {'audit_trail': \n",
    "\n",
    "    {'MODIFIED_ON': '14/02/2022 22:02:35',\n",
    "    'ACTION': 'Update',\n",
    "    'ACTION_PERFORMER':'Adages',\n",
    "    'ADAGES_LIFECYCLE':[3, 1],\n",
    "    'MODIFIED_COLUMNS': {\n",
    "        'DATE_MONTH': ['7.0', '11.0'],\n",
    "        'ADAGES_LIFECYCLE': [3, 1], \n",
    "        'NOTIFICATION': [False, True]\n",
    "\n",
    "    }\n",
    "    }\n",
    "\n",
    "}\n",
    "\n"
   ]
  },
  {
   "cell_type": "code",
   "execution_count": 15,
   "metadata": {},
   "outputs": [],
   "source": [
    "audit_trail=data['audit_trail']"
   ]
  },
  {
   "cell_type": "code",
   "execution_count": 16,
   "metadata": {},
   "outputs": [
    {
     "data": {
      "text/plain": [
       "{'MODIFIED_ON': '14/02/2022 22:02:35',\n",
       " 'ACTION': 'Update',\n",
       " 'ACTION_PERFORMER': 'Adages',\n",
       " 'ADAGES_LIFECYCLE': [3, 1],\n",
       " 'MODIFIED_COLUMNS': {'DATE_MONTH': ['7.0', '11.0'],\n",
       "  'ADAGES_LIFECYCLE': [3, 1],\n",
       "  'NOTIFICATION': [False, True]}}"
      ]
     },
     "execution_count": 16,
     "metadata": {},
     "output_type": "execute_result"
    }
   ],
   "source": [
    "audit_trail"
   ]
  },
  {
   "cell_type": "code",
   "execution_count": 22,
   "metadata": {},
   "outputs": [],
   "source": [
    "notifications = audit_trail['MODIFIED_COLUMNS']['NOTIFICATION']\n",
    "b_lifecycles = audit_trail['ADAGES_LIFECYCLE']"
   ]
  },
  {
   "cell_type": "code",
   "execution_count": 20,
   "metadata": {},
   "outputs": [],
   "source": [
    "result = zip(notifications, b_lifecycles)"
   ]
  },
  {
   "cell_type": "code",
   "execution_count": 21,
   "metadata": {},
   "outputs": [
    {
     "name": "stdout",
     "output_type": "stream",
     "text": [
      "[(False, 3), (True, 1)]\n"
     ]
    }
   ],
   "source": [
    "print(list(result))"
   ]
  },
  {
   "cell_type": "code",
   "execution_count": 23,
   "metadata": {},
   "outputs": [],
   "source": [
    "f_lifecycles = []\n",
    "for notification, b_lifecycle in zip(notifications, b_lifecycles):\n",
    "    f_lifecycle = int(notification*b_lifecycle) if b_lifecycle in [1, 2] else b_lifecycle\n",
    "    f_lifecycles.append(f_lifecycle)\n"
   ]
  },
  {
   "cell_type": "code",
   "execution_count": 24,
   "metadata": {},
   "outputs": [
    {
     "data": {
      "text/plain": [
       "[3, 1]"
      ]
     },
     "execution_count": 24,
     "metadata": {},
     "output_type": "execute_result"
    }
   ],
   "source": [
    "f_lifecycles"
   ]
  },
  {
   "cell_type": "code",
   "execution_count": 17,
   "metadata": {},
   "outputs": [],
   "source": [
    "\n",
    "audit_trail = [{'MODIFIED_ON': ('2022-09-01 11:01:15.063733'), \n",
    "  'MODIFIED_COLUMNS': {'name': ['Last Fessi', 'I am the last uid'], 'is_monitored': ['None', 'True']}},\n",
    "\n",
    " {'MODIFIED_ON': ('2022-08-31 15:07:45.668484'), \n",
    "  'MODIFIED_COLUMNS': {'name': ['Richard Fessi', 'Last Fessi']}}, \n",
    "\n",
    " {'MODIFIED_ON': ('2022-08-31 15:00:09.444982'), \n",
    "  'MODIFIED_COLUMNS': {'name': ['Richard Taylor', 'Richard Fessi']}}]"
   ]
  },
  {
   "cell_type": "code",
   "execution_count": 18,
   "metadata": {},
   "outputs": [
    {
     "name": "stdout",
     "output_type": "stream",
     "text": [
      "this modification occured on :  2022-09-01 11:01:15.063733\n",
      "name was Last Fessi and became I am the last uid\n",
      "is_monitored was None and became True\n",
      "this modification occured on :  2022-08-31 15:07:45.668484\n",
      "name was Richard Fessi and became Last Fessi\n",
      "this modification occured on :  2022-08-31 15:00:09.444982\n",
      "name was Richard Taylor and became Richard Fessi\n"
     ]
    }
   ],
   "source": [
    "for modification in audit_trail : \n",
    "    print ('this modification occured on : ', modification['MODIFIED_ON'])\n",
    "    for column in modification['MODIFIED_COLUMNS']: \n",
    "        print (column+' was '+modification['MODIFIED_COLUMNS'][column][0]+' and became '+ modification['MODIFIED_COLUMNS'][column][1]) \n",
    "    "
   ]
  }
 ],
 "metadata": {
  "kernelspec": {
   "display_name": "Python 3.8.3 ('base')",
   "language": "python",
   "name": "python3"
  },
  "language_info": {
   "codemirror_mode": {
    "name": "ipython",
    "version": 3
   },
   "file_extension": ".py",
   "mimetype": "text/x-python",
   "name": "python",
   "nbconvert_exporter": "python",
   "pygments_lexer": "ipython3",
   "version": "3.8.3"
  },
  "orig_nbformat": 4,
  "vscode": {
   "interpreter": {
    "hash": "85d35b7079164753349e1742be122a5f0cc8445a56c1bc9b86bf5b0df18738e4"
   }
  }
 },
 "nbformat": 4,
 "nbformat_minor": 2
}
