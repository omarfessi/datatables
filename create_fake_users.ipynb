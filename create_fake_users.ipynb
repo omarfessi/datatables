{
 "cells": [
  {
   "cell_type": "code",
   "execution_count": 1,
   "metadata": {},
   "outputs": [],
   "source": [
    "import random\n",
    "import sys\n",
    "import datetime\n",
    "from dateutil.parser import parse\n",
    "from faker import Faker\n",
    "from api import db, User"
   ]
  },
  {
   "cell_type": "code",
   "execution_count": null,
   "metadata": {},
   "outputs": [],
   "source": [
    "\n",
    "\n",
    "def create_fake_users(n):\n",
    "    \"\"\"Generate fake users.\"\"\"\n",
    "    faker = Faker()\n",
    "    for i in range(n):\n",
    "        user = User(name = faker.name(), \n",
    "                    age = random.randint(20, 80), \n",
    "                    address = faker.address().replace('\\n',', '),\n",
    "                    phone = faker.phone_number(),\n",
    "                    email = faker.email(),\n",
    "                    country = faker.country(),\n",
    "                    date_of_birth = faker.date_time()\n",
    "                    )\n",
    "        db.session.add(user)\n",
    "    db.session.commit()\n",
    "    print(f'Added {n} faker users to the db.')\n"
   ]
  },
  {
   "cell_type": "code",
   "execution_count": null,
   "metadata": {},
   "outputs": [],
   "source": [
    "create_fake_users(700)"
   ]
  },
  {
   "cell_type": "code",
   "execution_count": 2,
   "metadata": {},
   "outputs": [],
   "source": [
    "faker = Faker()\n",
    "user = User(name = faker.name(), \n",
    "                    age = random.randint(20, 80), \n",
    "                    address = faker.address().replace('\\n',', '),\n",
    "                    phone = faker.phone_number(),\n",
    "                    email = faker.email(),\n",
    "                    country = faker.country(),\n",
    "                    date_of_birth = faker.date_time()\n",
    "                    )"
   ]
  },
  {
   "cell_type": "code",
   "execution_count": 3,
   "metadata": {},
   "outputs": [
    {
     "data": {
      "text/plain": [
       "User('Louis Guerra', '21', '3186 Daniels Villages Suite 282, Beverlyberg, CO 63705', '482.950.1833x862', 'matthewthomas@example.net', 'Iraq', '1971-07-25 09:46:06', 'None') "
      ]
     },
     "execution_count": 3,
     "metadata": {},
     "output_type": "execute_result"
    }
   ],
   "source": [
    "user"
   ]
  },
  {
   "cell_type": "code",
   "execution_count": 4,
   "metadata": {},
   "outputs": [],
   "source": [
    "db.session.add(user)"
   ]
  },
  {
   "cell_type": "code",
   "execution_count": 5,
   "metadata": {},
   "outputs": [],
   "source": [
    "db.session.commit()\n"
   ]
  },
  {
   "cell_type": "code",
   "execution_count": null,
   "metadata": {},
   "outputs": [],
   "source": [
    "type(faker.date_time())"
   ]
  },
  {
   "cell_type": "code",
   "execution_count": 11,
   "metadata": {},
   "outputs": [
    {
     "data": {
      "text/plain": [
       "'dpo'"
      ]
     },
     "execution_count": 11,
     "metadata": {},
     "output_type": "execute_result"
    }
   ],
   "source": [
    "team_members_choices = ['dpo', 'IG Member', 'Work Council', 'Legal Member']\n",
    "random.choice(team_members_choices)"
   ]
  }
 ],
 "metadata": {
  "kernelspec": {
   "display_name": "Python 3.8.3 ('base')",
   "language": "python",
   "name": "python3"
  },
  "language_info": {
   "codemirror_mode": {
    "name": "ipython",
    "version": 3
   },
   "file_extension": ".py",
   "mimetype": "text/x-python",
   "name": "python",
   "nbconvert_exporter": "python",
   "pygments_lexer": "ipython3",
   "version": "3.8.3"
  },
  "orig_nbformat": 4,
  "vscode": {
   "interpreter": {
    "hash": "85d35b7079164753349e1742be122a5f0cc8445a56c1bc9b86bf5b0df18738e4"
   }
  }
 },
 "nbformat": 4,
 "nbformat_minor": 2
}
